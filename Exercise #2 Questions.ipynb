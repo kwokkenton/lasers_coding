{
 "cells": [
  {
   "cell_type": "markdown",
   "id": "6c387f9f",
   "metadata": {},
   "source": [
    "# Coding Exercise # 2 : Laser Dynamics"
   ]
  },
  {
   "cell_type": "markdown",
   "id": "63d6cec4",
   "metadata": {},
   "source": [
    "# Intro"
   ]
  },
  {
   "cell_type": "markdown",
   "id": "b11a9550",
   "metadata": {},
   "source": [
    "In the lectures, we solved the coupled-rate equations for a multi-level laser system assuming a *steady-state*. In the steady-state, the laser output is constant. \n",
    "\n",
    "However, when a laser is first switched on, *relaxation oscillations* can occur before the steady-state is reached, i.e. the laser output intensity exhbitis a series of regularly spaced spikes that decay away - even with constant pumping! \n",
    "\n",
    "The origin of *relaxation oscillations* is best understood when you have familiarised yourself with gain clamping (Lecture 5.4): As the laser intensity increases from zero it overshoots the steady-state intensity. This depletes the gain due to gain saturation, which in turn reduces the intensity which allows the gain to be pumped up again, and so on. This leads to intensity spikes that eventually settle down to a constant, steady-state intensity.\n",
    "\n",
    "This behaviour is described by two coupled, nonlinear differential equations. These cannot be solved analytically in the general case.\n",
    "\n",
    "However, in this exercise you will solve these equations numerically.\n"
   ]
  },
  {
   "cell_type": "markdown",
   "id": "4a18a9ee",
   "metadata": {},
   "source": [
    "## Laser Dynamics\n",
    "The differential equations that you need to solve are:"
   ]
  },
  {
   "cell_type": "markdown",
   "id": "dfe8b0f6",
   "metadata": {},
   "source": [
    "## $\\frac{d\\phi(t)}{dt}=KM_2(t)\\left[\\phi(t)+1\\right]-\\phi(t)/\\tau_c$\n",
    "\n",
    "\n",
    "## $\\frac{dM_2(t)}{dt}=Q_2-KM_2(t)\\phi(t)-M_2(t)/\\tau_{21}$"
   ]
  },
  {
   "cell_type": "markdown",
   "id": "38ab5abe",
   "metadata": {},
   "source": [
    "where\n",
    " \n",
    "+ $\\phi(t)$ = the number of photons in the cavity (dimensionless)\n",
    " \n",
    "+ $M_2(t)$ = the number of atoms in the upper state (dimensionless)\n",
    "        \n",
    "+ $K$ = a constant related to the transition cross-section and mode volume (/s)\n",
    "\n",
    "+ $Q_2$ = a constant related to the pumping rate (/s)\n",
    "\n",
    "+ $\\tau_{21}$ = the spontaneous decay time  of the laser transition (s)\n",
    "\n",
    "+ $\\tau_c$ = the *cavity decay time*, ie. time taken for light in unpumped cavity to decay away (s)"
   ]
  },
  {
   "cell_type": "markdown",
   "id": "fbb35a3e",
   "metadata": {},
   "source": [
    "Note: the equations are nonlinear due to the product $M_2(t)\\phi(t)$ that appears in both of them."
   ]
  },
  {
   "cell_type": "markdown",
   "id": "945dfebc",
   "metadata": {},
   "source": [
    "## Simulation Tasks"
   ]
  },
  {
   "cell_type": "markdown",
   "id": "700225b0",
   "metadata": {},
   "source": [
    "You will model a Nd:YAG oscillator with the following parameters:"
   ]
  },
  {
   "cell_type": "code",
   "execution_count": 1,
   "id": "4280e36d",
   "metadata": {},
   "outputs": [],
   "source": [
    "import numpy as np\n",
    "from scipy.integrate import odeint\n",
    "import matplotlib.pyplot as plt\n",
    "\n",
    "K = 3.0e-8 # /s\n",
    "Q2 = 1.6e19 # /s\n",
    "tau_21 = 2.3e-4 # s\n",
    "tau_c = 1.8e-8 # s"
   ]
  },
  {
   "cell_type": "markdown",
   "id": "7dee0574",
   "metadata": {},
   "source": [
    "**a)** Use `odeint` from `scipy.integrate` to numerically solve the coupled differential equations above for $\\phi(t)$ and $M_2(t)$  using the following time axis which covers the first 2 milliseconds from when the laser is switchd on. Plot your results. You should see a series of short spikes whose amplitudes decay exponentially. You will need to limit the x-range of your plot to see the individual spikes.\n"
   ]
  },
  {
   "cell_type": "markdown",
   "id": "43f32e0d",
   "metadata": {},
   "source": [
    "**Answer**:\n",
    "\n",
    "The `odeint` function uses Lsoda from the FORTRAN library odepack to solve the differential equation. These are two first order coupled differential equations."
   ]
  },
  {
   "cell_type": "code",
   "execution_count": 2,
   "id": "4b2b9411-6ddb-459b-a3c5-653e5cc3fc34",
   "metadata": {},
   "outputs": [],
   "source": [
    "# time axis\n",
    "\n",
    "def dydt(y, t, *args):\n",
    "    phi, M2 = y\n",
    "    dydt = [K*M2*(phi+1) - phi/tau_c, Q2 - K*M2*phi - M2/tau_21]\n",
    "    return dydt\n",
    "\n",
    "# Set initial conditions\n",
    "y0 = [0, 0]\n",
    "\n",
    "t = np.linspace(0, 2e-3, 10000) # [sec]\n",
    "phi, M2 = odeint(dydt, y0, t, args = (K, Q2, tau_21, tau_c)).T\n"
   ]
  },
  {
   "cell_type": "markdown",
   "id": "b5de0725",
   "metadata": {},
   "source": [
    "These are the plots"
   ]
  },
  {
   "cell_type": "code",
   "execution_count": 24,
   "id": "fc8cab63",
   "metadata": {},
   "outputs": [
    {
     "data": {
      "image/png": "[encoded data removed]",
      "text/plain": [
       "<Figure size 432x288 with 1 Axes>"
      ]
     },
     "metadata": {
      "needs_background": "light"
     },
     "output_type": "display_data"
    }
   ],
   "source": [
    "plt.ylabel('$\\phi(t)$')\n",
    "plt.xlabel('time t (s)')\n",
    "plt.plot(t, phi)\n",
    "plt.show()"
   ]
  },
  {
   "cell_type": "code",
   "execution_count": 23,
   "id": "0c41477f",
   "metadata": {},
   "outputs": [
    {
     "data": {
      "image/png": "[encoded data removed]",
      "text/plain": [
       "<Figure size 432x288 with 1 Axes>"
      ]
     },
     "metadata": {
      "needs_background": "light"
     },
     "output_type": "display_data"
    }
   ],
   "source": [
    "plt.ylabel('$M_2(t)$')\n",
    "plt.xlabel('time t (s)')\n",
    "\n",
    "plt.plot(t, M2)\n",
    "plt.show()\n"
   ]
  },
  {
   "cell_type": "markdown",
   "id": "4dc33fff",
   "metadata": {},
   "source": [
    "### Hint (spoiler if you want to work it out yourself)\n",
    "\n",
    "Your call to `odeint` should look like:\n",
    "\n",
    "`phi, M2 = odeint(dydt, y0, t, args=(...).T`\n",
    "\n",
    "where\n",
    "\n",
    "`dydt` is a function `def dydt(y, t, ...):` that returns the right hand sides of the equations, i.e. the tuple  `dphidt, dM2dt`, where `y` is the tuple `phi, M` and  `...` refers to additional positional arguments needed (the parameters of the problem) which are the same arguments passed to `odeint` (and in the same order)\n",
    "\n",
    "`y0` is a tuple of the initial conditions `dphidt` at t=0, `dM2dt` at t=0\n",
    "\n",
    "`t` is the time axis (numpy array).\n",
    "\n",
    "The `.T` transpose is necessary to unpack the data correctly; `phi` and `M2` will be arrays containing the values of `phi` and `M2` sampled on `t`.\n",
    "\n"
   ]
  },
  {
   "cell_type": "markdown",
   "id": "7462c278",
   "metadata": {},
   "source": [
    "**b)** Estimate the steady-state value of $\\phi$.\n",
    "\n",
    "**Answer:** The final values of phi give a good indication on the equilibrium number of photons in the cavity."
   ]
  },
  {
   "cell_type": "code",
   "execution_count": 5,
   "id": "6da94d2c",
   "metadata": {},
   "outputs": [
    {
     "data": {
      "text/plain": [
       "142704585652"
      ]
     },
     "execution_count": 5,
     "metadata": {},
     "output_type": "execute_result"
    }
   ],
   "source": [
    "int(phi[-1])"
   ]
  },
  {
   "cell_type": "markdown",
   "id": "8b211234",
   "metadata": {
    "tags": []
   },
   "source": [
    "### Extension\n",
    "**c)** Use `find_peaks` from `scipy.signal` to get the peaks of `phi` and plot them on top of the relaxation oscillations."
   ]
  },
  {
   "cell_type": "code",
   "execution_count": 25,
   "id": "08763477",
   "metadata": {},
   "outputs": [
    {
     "data": {
      "image/png": "[encoded data removed]",
      "text/plain": [
       "<Figure size 432x288 with 1 Axes>"
      ]
     },
     "metadata": {
      "needs_background": "light"
     },
     "output_type": "display_data"
    }
   ],
   "source": [
    "from scipy.signal import find_peaks\n",
    "\n",
    "peaks = find_peaks(phi)[0]\n",
    "\n",
    "plt.scatter(t[peaks], phi[peaks], c='orange')\n",
    "plt.ylabel('$\\phi(t)$')\n",
    "plt.xlabel('time t (s)')\n",
    "plt.plot(t, phi)\n",
    "plt.show()"
   ]
  },
  {
   "cell_type": "markdown",
   "id": "d6483b31-285b-4ec2-b487-e998290db7ee",
   "metadata": {},
   "source": [
    "**d)** Use `curve_fit` from `scipy.optimize` to fit an exponential decay to the peaks to determine the the decay time of the relaxation oscillatons."
   ]
  },
  {
   "cell_type": "code",
   "execution_count": 33,
   "id": "e4f34f9c",
   "metadata": {},
   "outputs": [
    {
     "data": {
      "image/png": "[encoded data removed]",
      "text/plain": [
       "<Figure size 432x288 with 1 Axes>"
      ]
     },
     "metadata": {
      "needs_background": "light"
     },
     "output_type": "display_data"
    }
   ],
   "source": [
    "from scipy.optimize import curve_fit\n",
    "import numpy as np\n",
    "\n",
    "def exp(t, A, tau):\n",
    "    return A*np.exp(-np.log(2)*t/tau)\n",
    "\n",
    "p,cov = curve_fit(exp, t[peaks], phi[peaks], p0 = [3e12, 2e-4])\n",
    "\n",
    "plt.scatter(t[peaks], phi[peaks], c='orange')\n",
    "\n",
    "plt.ylabel('$\\phi(t)$')\n",
    "plt.xlabel('time t (s)')\n",
    "plt.plot(t,phi)\n",
    "\n",
    "plt.plot(t, exp(t, *p), c = 'red')\n",
    "\n",
    "plt.show()"
   ]
  },
  {
   "cell_type": "markdown",
   "id": "29c09ec4",
   "metadata": {},
   "source": [
    "The optimal parameters are as follows"
   ]
  },
  {
   "cell_type": "code",
   "execution_count": 34,
   "id": "b7b499e3",
   "metadata": {},
   "outputs": [
    {
     "data": {
      "text/plain": [
       "array([6.37028891e+12, 1.50715355e-04])"
      ]
     },
     "execution_count": 34,
     "metadata": {},
     "output_type": "execute_result"
    }
   ],
   "source": [
    "p"
   ]
  }
 ],
 "metadata": {
  "kernelspec": {
   "display_name": "Python 3 (ipykernel)",
   "language": "python",
   "name": "python3"
  },
  "language_info": {
   "codemirror_mode": {
    "name": "ipython",
    "version": 3
   },
   "file_extension": ".py",
   "mimetype": "text/x-python",
   "name": "python",
   "nbconvert_exporter": "python",
   "pygments_lexer": "ipython3",
   "version": "3.9.7"
  }
 },
 "nbformat": 4,
 "nbformat_minor": 5
}
